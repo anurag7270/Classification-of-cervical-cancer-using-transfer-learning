{
 "cells": [
  {
   "cell_type": "code",
   "execution_count": 22,
   "metadata": {},
   "outputs": [
    {
     "data": {
      "text/plain": [
       "'e:\\\\major_project\\\\env_major_project\\\\scripts'"
      ]
     },
     "execution_count": 22,
     "metadata": {},
     "output_type": "execute_result"
    }
   ],
   "source": [
    "import os \n",
    "import sys\n",
    "os.path.dirname(sys.executable)"
   ]
  },
  {
   "cell_type": "code",
   "execution_count": 23,
   "metadata": {},
   "outputs": [],
   "source": [
    "import tensorflow as tf\n",
    "from tensorflow.keras.preprocessing.image import ImageDataGenerator as img_gen"
   ]
  },
  {
   "cell_type": "code",
   "execution_count": 24,
   "metadata": {},
   "outputs": [
    {
     "name": "stdout",
     "output_type": "stream",
     "text": [
      "Found 654 images belonging to 6 classes.\n",
      "Found 163 images belonging to 6 classes.\n"
     ]
    },
    {
     "data": {
      "text/plain": [
       "\"\\nmodel3 doesnt work\\n# Train data prepare \\ntrain_data_path = 'papsmeardata_train'\\ntrain_datagen = img_gen(rescale=1./255)\\ntrain_generator = train_datagen.flow_from_directory(train_data_path, \\n                                                    target_size=(224,224),\\n                                                    class_mode='categorical')\\n\\n# Test data \\ntest_data_path = 'papsmeardata_test'\\ntest_datagen = img_gen(rescale=1./255)\\ntest_generator = test_datagen.flow_from_directory(test_data_path, \\n                                                    target_size=(224,224),\\n                                                    class_mode='categorical')\\n\""
      ]
     },
     "execution_count": 24,
     "metadata": {},
     "output_type": "execute_result"
    }
   ],
   "source": [
    "#model1\n",
    "# Train data prepare \n",
    "train_data_path = 'Resultant_train'\n",
    "# train_data_path = 'binary_train'\n",
    "train_datagen = img_gen(rescale=1./255)\n",
    "train_generator = train_datagen.flow_from_directory(train_data_path, \n",
    "                                                    target_size=(128,128),\n",
    "                                                    class_mode='categorical')\n",
    "\n",
    "# Test data \n",
    "test_data_path = 'Resultant_test'\n",
    "# test_data_path = 'binary_test'\n",
    "test_datagen = img_gen(rescale=1./255)\n",
    "test_generator = test_datagen.flow_from_directory(test_data_path, \n",
    "                                                    target_size=(128,128),\n",
    "                                                    class_mode='categorical')\n",
    "\n",
    "'''\n",
    "model3 doesnt work well\n",
    "# Train data prepare \n",
    "train_data_path = 'papsmeardata_train'\n",
    "train_datagen = img_gen(rescale=1./255)\n",
    "train_generator = train_datagen.flow_from_directory(train_data_path, \n",
    "                                                    target_size=(224,224),\n",
    "                                                    class_mode='categorical')\n",
    "\n",
    "# Test data \n",
    "test_data_path = 'papsmeardata_test'\n",
    "test_datagen = img_gen(rescale=1./255)\n",
    "test_generator = test_datagen.flow_from_directory(test_data_path, \n",
    "                                                    target_size=(224,224),\n",
    "                                                    class_mode='categorical')\n",
    "'''"
   ]
  },
  {
   "cell_type": "code",
   "execution_count": 28,
   "metadata": {
    "scrolled": true
   },
   "outputs": [
    {
     "name": "stdout",
     "output_type": "stream",
     "text": [
      "Model: \"sequential_5\"\n",
      "_________________________________________________________________\n",
      "Layer (type)                 Output Shape              Param #   \n",
      "=================================================================\n",
      "conv2d_15 (Conv2D)           (None, 126, 126, 32)      896       \n",
      "_________________________________________________________________\n",
      "max_pooling2d_15 (MaxPooling (None, 63, 63, 32)        0         \n",
      "_________________________________________________________________\n",
      "conv2d_16 (Conv2D)           (None, 61, 61, 64)        18496     \n",
      "_________________________________________________________________\n",
      "max_pooling2d_16 (MaxPooling (None, 30, 30, 64)        0         \n",
      "_________________________________________________________________\n",
      "conv2d_17 (Conv2D)           (None, 28, 28, 64)        36928     \n",
      "_________________________________________________________________\n",
      "max_pooling2d_17 (MaxPooling (None, 14, 14, 64)        0         \n",
      "_________________________________________________________________\n",
      "flatten_5 (Flatten)          (None, 12544)             0         \n",
      "_________________________________________________________________\n",
      "dense_14 (Dense)             (None, 512)               6423040   \n",
      "_________________________________________________________________\n",
      "dense_15 (Dense)             (None, 512)               262656    \n",
      "_________________________________________________________________\n",
      "dense_16 (Dense)             (None, 6)                 3078      \n",
      "=================================================================\n",
      "Total params: 6,745,094\n",
      "Trainable params: 6,745,094\n",
      "Non-trainable params: 0\n",
      "_________________________________________________________________\n"
     ]
    },
    {
     "data": {
      "text/plain": [
       "\" model3 : Caffenet raw architecture (not transfer learning) \\ndoesn't work validation accuracy stays unchanged upto 2 decimal places even after 5 epochs\\n\\nmodel=tf.keras.models.Sequential([tf.keras.layers.Conv2D(96, (11,11), activation='relu', input_shape=(224,224,3)),\\n                                  tf.keras.layers.MaxPooling2D(3,3),\\n                                  tf.keras.layers.Conv2D(256, (5,5), activation='relu'),\\n                                  tf.keras.layers.MaxPooling2D(3,3),\\n                                  tf.keras.layers.Conv2D(384, (3,3), activation='relu'),\\n                                  tf.keras.layers.Conv2D(384, (3,3), activation='relu'),\\n                                  tf.keras.layers.Conv2D(256, (3,3), activation='relu'),\\n                                  tf.keras.layers.MaxPooling2D(3,3),\\n                                  tf.keras.layers.Flatten(),\\n                                  tf.keras.layers.Dense(4096, activation='relu'),\\n                                  tf.keras.layers.Dense(4096, activation='relu'),\\n                                  tf.keras.layers.Dense(7, activation='softmax')])\\nmodel.summary()\""
      ]
     },
     "execution_count": 28,
     "metadata": {},
     "output_type": "execute_result"
    }
   ],
   "source": [
    "#model1\n",
    "model = tf.keras.models.Sequential([ tf.keras.layers.Conv2D(32, (3,3), activation='relu', input_shape=(128,128,3)),\n",
    "                                  tf.keras.layers.MaxPooling2D(2,2),\n",
    "                                  tf.keras.layers.Con2D(64, (3,3), activation='relu'),\n",
    "                                  tf.keras.layers.MaxPovoling2D(2,2),\n",
    "                                  tf.keras.layers.Conv2D(64, (3,3), activation='relu'),\n",
    "                                  tf.keras.layers.MaxPooling2D(2,2),\n",
    "                                  tf.keras.layers.Flatten(),\n",
    "                                  tf.keras.layers.Dense(512, activation='relu'),\n",
    "                                  tf.keras.layers.Dense(512, activation='relu'),\n",
    "                                  tf.keras.layers.Dense(6, activation='softmax')\n",
    "                                   ])\n",
    "\n",
    "# model = tf.keras.models.Sequential([tf.keras.layers.Conv2D(64, (3,3), activation='relu', input_shape=(128,128,3)),\n",
    "#                                     tf.keras.layers.MaxPooling2D(2,2),\n",
    "#                                     tf.keras.layers.Conv2D(128, (3,3), activation='relu'),\n",
    "#                                     tf.keras.layers.MaxPooling2D(2,2),\n",
    "#                                     tf.keras.layers.Flatten(),\n",
    "#                                     tf.keras.layers.Dense(512, activation='relu'),\n",
    "#                                     tf.keras.layers.Dense(256, activation='relu'),\n",
    "#                                     tf.keras.layers.Dense(7, activation='softmax')\n",
    "#                                    ])\n",
    "\n",
    "\n",
    "\n",
    "model.summary()\n",
    "\n",
    "''' model3 : Caffenet raw architecture (not transfer learning) \n",
    "doesn't work validation accuracy stays unchanged upto 2 decimal places even after 5 epochs\n",
    "\n",
    "model=tf.keras.models.Sequential([tf.keras.layers.Conv2D(96, (11,11), activation='relu', input_shape=(224,224,3)),\n",
    "                                  tf.keras.layers.MaxPooling2D(3,3),\n",
    "                                  tf.keras.layers.Conv2D(256, (5,5), activation='relu'),\n",
    "                                  tf.keras.layers.MaxPooling2D(3,3),\n",
    "                                  tf.keras.layers.Conv2D(384, (3,3), activation='relu'),\n",
    "                                  tf.keras.layers.Conv2D(384, (3,3), activation='relu'),\n",
    "                                  tf.keras.layers.Conv2D(256, (3,3), activation='relu'),\n",
    "                                  tf.keras.layers.MaxPooling2D(3,3),\n",
    "                                  tf.keras.layers.Flatten(),\n",
    "                                  tf.keras.layers.Dense(4096, activation='relu'),\n",
    "                                  tf.keras.layers.Dense(4096, activation='relu'),\n",
    "                                  tf.keras.layers.Dense(7, activation='softmax')])\n",
    "model.summary()'''\n",
    "                                  \n",
    "                                  \n",
    "                                  \n",
    "                                  "
   ]
  },
  {
   "cell_type": "code",
   "execution_count": 29,
   "metadata": {},
   "outputs": [
    {
     "data": {
      "text/plain": [
       "\"tf.keras.optimizers.SGD(\\n    learning_rate=0.05, momentum=0.1, nesterov=False, name='SGD', decay=0.1 \\n)\""
      ]
     },
     "execution_count": 29,
     "metadata": {},
     "output_type": "execute_result"
    }
   ],
   "source": [
    "'''tf.keras.optimizers.Adam(\n",
    "    learning_rate=0.05, \n",
    "    name='adam'\n",
    ")'''\n",
    "'''tf.keras.optimizers.SGD(\n",
    "    learning_rate=0.05, momentum=0.1, nesterov=False, name='SGD', decay=0.1 \n",
    ")'''"
   ]
  },
  {
   "cell_type": "code",
   "execution_count": 30,
   "metadata": {},
   "outputs": [],
   "source": [
    "model.compile(loss='categorical_crossentropy', optimizer=tf.keras.optimizers.Adam(), metrics=['acc'])"
   ]
  },
  {
   "cell_type": "code",
   "execution_count": 31,
   "metadata": {},
   "outputs": [
    {
     "name": "stdout",
     "output_type": "stream",
     "text": [
      "Epoch 1/30\n",
      "20/21 [===========================>..] - ETA: 0s - loss: 1.7827 - acc: 0.2186Epoch 1/30\n",
      "21/21 [==============================] - 14s 677ms/step - loss: 1.7795 - acc: 0.2171 - val_loss: 1.7359 - val_acc: 0.2270\n",
      "Epoch 2/30\n",
      "20/21 [===========================>..] - ETA: 0s - loss: 1.6465 - acc: 0.2749Epoch 1/30\n",
      "21/21 [==============================] - 14s 660ms/step - loss: 1.6435 - acc: 0.2706 - val_loss: 1.6348 - val_acc: 0.2945\n",
      "Epoch 3/30\n",
      "20/21 [===========================>..] - ETA: 0s - loss: 1.5528 - acc: 0.3585Epoch 1/30\n",
      "21/21 [==============================] - 14s 682ms/step - loss: 1.5456 - acc: 0.3578 - val_loss: 1.5308 - val_acc: 0.4356\n",
      "Epoch 4/30\n",
      "20/21 [===========================>..] - ETA: 0s - loss: 1.4545 - acc: 0.3859Epoch 1/30\n",
      "21/21 [==============================] - 14s 688ms/step - loss: 1.4527 - acc: 0.3899 - val_loss: 1.5204 - val_acc: 0.4233\n",
      "Epoch 5/30\n",
      "20/21 [===========================>..] - ETA: 0s - loss: 1.4138 - acc: 0.3875Epoch 1/30\n",
      "21/21 [==============================] - 14s 680ms/step - loss: 1.4202 - acc: 0.3853 - val_loss: 1.4625 - val_acc: 0.4356\n",
      "Epoch 6/30\n",
      "20/21 [===========================>..] - ETA: 0s - loss: 1.3464 - acc: 0.4293Epoch 1/30\n",
      "21/21 [==============================] - 15s 709ms/step - loss: 1.3461 - acc: 0.4327 - val_loss: 1.2306 - val_acc: 0.4540\n",
      "Epoch 7/30\n",
      "20/21 [===========================>..] - ETA: 0s - loss: 1.2019 - acc: 0.5161Epoch 1/30\n",
      "21/21 [==============================] - 13s 620ms/step - loss: 1.2035 - acc: 0.5199 - val_loss: 1.3510 - val_acc: 0.4233\n",
      "Epoch 8/30\n",
      "20/21 [===========================>..] - ETA: 0s - loss: 1.1468 - acc: 0.5145Epoch 1/30\n",
      "21/21 [==============================] - 13s 614ms/step - loss: 1.1373 - acc: 0.5138 - val_loss: 1.0395 - val_acc: 0.5215\n",
      "Epoch 9/30\n",
      "20/21 [===========================>..] - ETA: 0s - loss: 0.9904 - acc: 0.5916Epoch 1/30\n",
      "21/21 [==============================] - 13s 609ms/step - loss: 0.9930 - acc: 0.5902 - val_loss: 1.1517 - val_acc: 0.5031\n",
      "Epoch 10/30\n",
      "20/21 [===========================>..] - ETA: 0s - loss: 0.9658 - acc: 0.6302Epoch 1/30\n",
      "21/21 [==============================] - 13s 603ms/step - loss: 0.9469 - acc: 0.6361 - val_loss: 1.0998 - val_acc: 0.5092\n",
      "Epoch 11/30\n",
      "20/21 [===========================>..] - ETA: 0s - loss: 0.7147 - acc: 0.7299Epoch 1/30\n",
      "21/21 [==============================] - 14s 688ms/step - loss: 0.7257 - acc: 0.7294 - val_loss: 1.2520 - val_acc: 0.5276\n",
      "Epoch 12/30\n",
      "20/21 [===========================>..] - ETA: 0s - loss: 0.6035 - acc: 0.7814Epoch 1/30\n",
      "21/21 [==============================] - 14s 683ms/step - loss: 0.5951 - acc: 0.7829 - val_loss: 1.1486 - val_acc: 0.5706\n",
      "Epoch 13/30\n",
      "20/21 [===========================>..] - ETA: 0s - loss: 0.5171 - acc: 0.8006Epoch 1/30\n",
      "21/21 [==============================] - 14s 683ms/step - loss: 0.5129 - acc: 0.8043 - val_loss: 1.3568 - val_acc: 0.5399\n",
      "Epoch 14/30\n",
      "20/21 [===========================>..] - ETA: 0s - loss: 0.3825 - acc: 0.8569Epoch 1/30\n",
      "21/21 [==============================] - 14s 681ms/step - loss: 0.3826 - acc: 0.8578 - val_loss: 1.7728 - val_acc: 0.5399\n",
      "Epoch 15/30\n",
      "20/21 [===========================>..] - ETA: 0s - loss: 0.2815 - acc: 0.9035Epoch 1/30\n",
      "21/21 [==============================] - 14s 681ms/step - loss: 0.2857 - acc: 0.9021 - val_loss: 2.3025 - val_acc: 0.5276\n",
      "Epoch 16/30\n",
      "20/21 [===========================>..] - ETA: 0s - loss: 0.1948 - acc: 0.9244Epoch 1/30\n",
      "21/21 [==============================] - 13s 625ms/step - loss: 0.1897 - acc: 0.9266 - val_loss: 2.3116 - val_acc: 0.4847\n",
      "Epoch 17/30\n",
      "20/21 [===========================>..] - ETA: 0s - loss: 0.0933 - acc: 0.9791Epoch 1/30\n",
      "21/21 [==============================] - 13s 619ms/step - loss: 0.0902 - acc: 0.9801 - val_loss: 3.1306 - val_acc: 0.5092\n",
      "Epoch 18/30\n",
      "20/21 [===========================>..] - ETA: 0s - loss: 0.0936 - acc: 0.9695Epoch 1/30\n",
      "21/21 [==============================] - 13s 608ms/step - loss: 0.0911 - acc: 0.9709 - val_loss: 2.3551 - val_acc: 0.5644\n",
      "Epoch 19/30\n",
      "20/21 [===========================>..] - ETA: 0s - loss: 0.0682 - acc: 0.9823Epoch 1/30\n",
      "21/21 [==============================] - 13s 627ms/step - loss: 0.0653 - acc: 0.9832 - val_loss: 2.6995 - val_acc: 0.4908\n",
      "Epoch 20/30\n",
      "20/21 [===========================>..] - ETA: 0s - loss: 0.0820 - acc: 0.9759Epoch 1/30\n",
      "21/21 [==============================] - 15s 696ms/step - loss: 0.0847 - acc: 0.9740 - val_loss: 2.7921 - val_acc: 0.5337\n",
      "Epoch 21/30\n",
      "20/21 [===========================>..] - ETA: 0s - loss: 0.0660 - acc: 0.9807Epoch 1/30\n",
      "21/21 [==============================] - 14s 687ms/step - loss: 0.0649 - acc: 0.9801 - val_loss: 2.9962 - val_acc: 0.5031\n",
      "Epoch 22/30\n",
      "20/21 [===========================>..] - ETA: 0s - loss: 0.0655 - acc: 0.9775Epoch 1/30\n",
      "21/21 [==============================] - 14s 689ms/step - loss: 0.0637 - acc: 0.9786 - val_loss: 3.1632 - val_acc: 0.4663\n",
      "Epoch 23/30\n",
      "20/21 [===========================>..] - ETA: 0s - loss: 0.1557 - acc: 0.9531Epoch 1/30\n",
      "21/21 [==============================] - 14s 685ms/step - loss: 0.1839 - acc: 0.9495 - val_loss: 3.9718 - val_acc: 0.3865\n",
      "Epoch 24/30\n",
      "20/21 [===========================>..] - ETA: 0s - loss: 0.4323 - acc: 0.8505Epoch 1/30\n",
      "21/21 [==============================] - 14s 662ms/step - loss: 0.4292 - acc: 0.8532 - val_loss: 1.8232 - val_acc: 0.5215\n",
      "Epoch 25/30\n",
      "20/21 [===========================>..] - ETA: 0s - loss: 0.0873 - acc: 0.9791Epoch 1/30\n",
      "21/21 [==============================] - 13s 609ms/step - loss: 0.0857 - acc: 0.9801 - val_loss: 2.3800 - val_acc: 0.4663\n",
      "Epoch 26/30\n",
      "20/21 [===========================>..] - ETA: 0s - loss: 0.0171 - acc: 1.0000Epoch 1/30\n",
      "21/21 [==============================] - 13s 615ms/step - loss: 0.0165 - acc: 1.0000 - val_loss: 2.9188 - val_acc: 0.5399\n",
      "Epoch 27/30\n",
      "20/21 [===========================>..] - ETA: 0s - loss: 0.0052 - acc: 1.0000Epoch 1/30\n",
      "21/21 [==============================] - 13s 607ms/step - loss: 0.0051 - acc: 1.0000 - val_loss: 3.1631 - val_acc: 0.5153\n",
      "Epoch 28/30\n",
      "20/21 [===========================>..] - ETA: 0s - loss: 0.0020 - acc: 1.0000Epoch 1/30\n",
      "21/21 [==============================] - 14s 650ms/step - loss: 0.0019 - acc: 1.0000 - val_loss: 3.2645 - val_acc: 0.5153\n",
      "Epoch 29/30\n",
      "20/21 [===========================>..] - ETA: 0s - loss: 0.0011 - acc: 1.0000Epoch 1/30\n",
      "21/21 [==============================] - 15s 692ms/step - loss: 0.0012 - acc: 1.0000 - val_loss: 3.2891 - val_acc: 0.5092\n",
      "Epoch 30/30\n",
      "20/21 [===========================>..] - ETA: 0s - loss: 7.8201e-04 - acc: 1.0000Epoch 1/30\n",
      "21/21 [==============================] - 15s 696ms/step - loss: 7.9516e-04 - acc: 1.0000 - val_loss: 4.0862 - val_acc: 0.5031\n"
     ]
    }
   ],
   "source": [
    "history1 = model.fit_generator(train_generator, epochs=30, validation_data=test_generator)"
   ]
  },
  {
   "cell_type": "code",
   "execution_count": null,
   "metadata": {},
   "outputs": [],
   "source": []
  },
  {
   "cell_type": "code",
   "execution_count": null,
   "metadata": {},
   "outputs": [],
   "source": []
  }
 ],
 "metadata": {
  "kernelspec": {
   "display_name": "Python 3",
   "language": "python",
   "name": "python3"
  },
  "language_info": {
   "codemirror_mode": {
    "name": "ipython",
    "version": 3
   },
   "file_extension": ".py",
   "mimetype": "text/x-python",
   "name": "python",
   "nbconvert_exporter": "python",
   "pygments_lexer": "ipython3",
   "version": "3.7.9"
  }
 },
 "nbformat": 4,
 "nbformat_minor": 4
}
