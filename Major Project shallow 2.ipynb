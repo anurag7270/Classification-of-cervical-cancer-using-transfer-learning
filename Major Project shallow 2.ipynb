{
 "cells": [
  {
   "cell_type": "code",
   "execution_count": 1,
   "metadata": {},
   "outputs": [
    {
     "data": {
      "text/plain": [
       "'d:\\\\major_project\\\\env_major_project\\\\scripts'"
      ]
     },
     "execution_count": 1,
     "metadata": {},
     "output_type": "execute_result"
    }
   ],
   "source": [
    "import os \n",
    "import sys\n",
    "os.path.dirname(sys.executable)"
   ]
  },
  {
   "cell_type": "code",
   "execution_count": 2,
   "metadata": {},
   "outputs": [],
   "source": [
    "import tensorflow as tf\n",
    "from tensorflow.keras.preprocessing.image import ImageDataGenerator as img_gen"
   ]
  },
  {
   "cell_type": "code",
   "execution_count": 3,
   "metadata": {},
   "outputs": [
    {
     "name": "stdout",
     "output_type": "stream",
     "text": [
      "Found 576 images belonging to 5 classes.\n",
      "Found 196 images belonging to 5 classes.\n"
     ]
    },
    {
     "data": {
      "text/plain": [
       "\"\\nmodel3 doesnt work\\n# Train data prepare \\ntrain_data_path = 'papsmeardata_train'\\ntrain_datagen = img_gen(rescale=1./255)\\ntrain_generator = train_datagen.flow_from_directory(train_data_path, \\n                                                    target_size=(224,224),\\n                                                    class_mode='categorical')\\n\\n# Test data \\ntest_data_path = 'papsmeardata_test'\\ntest_datagen = img_gen(rescale=1./255)\\ntest_generator = test_datagen.flow_from_directory(test_data_path, \\n                                                    target_size=(224,224),\\n                                                    class_mode='categorical')\\n\""
      ]
     },
     "execution_count": 3,
     "metadata": {},
     "output_type": "execute_result"
    }
   ],
   "source": [
    "#model1\n",
    "# Train data prepare \n",
    "train_data_path =r'D:\\major_project\\env_major_project\\SIPakMed_format_unaugumented\\train'\n",
    "# train_data_path = 'binary_train'\n",
    "train_datagen = img_gen(rescale=1./255)\n",
    "train_generator = train_datagen.flow_from_directory(train_data_path, \n",
    "                                                    target_size=(128,128),\n",
    "                                                    class_mode='categorical')\n",
    "\n",
    "# Test data \n",
    "test_data_path =r'D:\\major_project\\env_major_project\\SIPakMed_format_unaugumented\\test'\n",
    "# test_data_path = 'binary_test'\n",
    "test_datagen = img_gen(rescale=1./255)\n",
    "test_generator = test_datagen.flow_from_directory(test_data_path, \n",
    "                                                    target_size=(128,128),\n",
    "                                                    class_mode='categorical')\n",
    "\n",
    "'''\n",
    "model3 doesnt work well\n",
    "# Train data prepare \n",
    "train_data_path = 'papsmeardata_train'\n",
    "train_datagen = img_gen(rescale=1./255)\n",
    "train_generator = train_datagen.flow_from_directory(train_data_path, \n",
    "                                                    target_size=(224,224),\n",
    "                                                    class_mode='categorical')\n",
    "\n",
    "# Test data \n",
    "test_data_path = 'papsmeardata_test'\n",
    "test_datagen = img_gen(rescale=1./255)\n",
    "test_generator = test_datagen.flow_from_directory(test_data_path, \n",
    "                                                    target_size=(224,224),\n",
    "                                                    class_mode='categorical')\n",
    "'''"
   ]
  },
  {
   "cell_type": "code",
   "execution_count": 5,
   "metadata": {
    "scrolled": true
   },
   "outputs": [
    {
     "name": "stdout",
     "output_type": "stream",
     "text": [
      "Model: \"sequential\"\n",
      "_________________________________________________________________\n",
      "Layer (type)                 Output Shape              Param #   \n",
      "=================================================================\n",
      "conv2d (Conv2D)              (None, 126, 126, 32)      896       \n",
      "_________________________________________________________________\n",
      "max_pooling2d (MaxPooling2D) (None, 63, 63, 32)        0         \n",
      "_________________________________________________________________\n",
      "conv2d_1 (Conv2D)            (None, 61, 61, 64)        18496     \n",
      "_________________________________________________________________\n",
      "max_pooling2d_1 (MaxPooling2 (None, 30, 30, 64)        0         \n",
      "_________________________________________________________________\n",
      "conv2d_2 (Conv2D)            (None, 28, 28, 64)        36928     \n",
      "_________________________________________________________________\n",
      "max_pooling2d_2 (MaxPooling2 (None, 14, 14, 64)        0         \n",
      "_________________________________________________________________\n",
      "flatten (Flatten)            (None, 12544)             0         \n",
      "_________________________________________________________________\n",
      "dense (Dense)                (None, 512)               6423040   \n",
      "_________________________________________________________________\n",
      "dense_1 (Dense)              (None, 512)               262656    \n",
      "_________________________________________________________________\n",
      "dense_2 (Dense)              (None, 5)                 2565      \n",
      "=================================================================\n",
      "Total params: 6,744,581\n",
      "Trainable params: 6,744,581\n",
      "Non-trainable params: 0\n",
      "_________________________________________________________________\n"
     ]
    },
    {
     "data": {
      "text/plain": [
       "\" model3 : Caffenet raw architecture (not transfer learning) \\ndoesn't work validation accuracy stays unchanged upto 2 decimal places even after 5 epochs\\n\\nmodel=tf.keras.models.Sequential([tf.keras.layers.Conv2D(96, (11,11), activation='relu', input_shape=(224,224,3)),\\n                                  tf.keras.layers.MaxPooling2D(3,3),\\n                                  tf.keras.layers.Conv2D(256, (5,5), activation='relu'),\\n                                  tf.keras.layers.MaxPooling2D(3,3),\\n                                  tf.keras.layers.Conv2D(384, (3,3), activation='relu'),\\n                                  tf.keras.layers.Conv2D(384, (3,3), activation='relu'),\\n                                  tf.keras.layers.Conv2D(256, (3,3), activation='relu'),\\n                                  tf.keras.layers.MaxPooling2D(3,3),\\n                                  tf.keras.layers.Flatten(),\\n                                  tf.keras.layers.Dense(4096, activation='relu'),\\n                                  tf.keras.layers.Dense(4096, activation='relu'),\\n                                  tf.keras.layers.Dense(7, activation='softmax')])\\nmodel.summary()\""
      ]
     },
     "execution_count": 5,
     "metadata": {},
     "output_type": "execute_result"
    }
   ],
   "source": [
    "#model1\n",
    "model = tf.keras.models.Sequential([ tf.keras.layers.Conv2D(32, (3,3), activation='relu', input_shape=(128,128,3)),\n",
    "                                  tf.keras.layers.MaxPooling2D(2,2),\n",
    "                                  tf.keras.layers.Conv2D(64, (3,3), activation='relu'),\n",
    "                                  tf.keras.layers.MaxPooling2D(2,2),\n",
    "                                  tf.keras.layers.Conv2D(64, (3,3), activation='relu'),\n",
    "                                  tf.keras.layers.MaxPooling2D(2,2),\n",
    "                                  tf.keras.layers.Flatten(),\n",
    "                                  tf.keras.layers.Dense(512, activation='relu'),\n",
    "                                  tf.keras.layers.Dense(512, activation='relu'),\n",
    "                                  tf.keras.layers.Dense(5, activation='softmax')\n",
    "                                   ])\n",
    "\n",
    "# model = tf.keras.models.Sequential([tf.keras.layers.Conv2D(64, (3,3), activation='relu', input_shape=(128,128,3)),\n",
    "#                                     tf.keras.layers.MaxPooling2D(2,2),\n",
    "#                                     tf.keras.layers.Conv2D(128, (3,3), activation='relu'),\n",
    "#                                     tf.keras.layers.MaxPooling2D(2,2),\n",
    "#                                     tf.keras.layers.Flatten(),\n",
    "#                                     tf.keras.layers.Dense(512, activation='relu'),\n",
    "#                                     tf.keras.layers.Dense(256, activation='relu'),\n",
    "#                                     tf.keras.layers.Dense(7, activation='softmax')\n",
    "#                                    ])\n",
    "\n",
    "\n",
    "\n",
    "model.summary()\n",
    "\n",
    "''' model3 : Caffenet raw architecture (not transfer learning) \n",
    "doesn't work validation accuracy stays unchanged upto 2 decimal places even after 5 epochs\n",
    "\n",
    "model=tf.keras.models.Sequential([tf.keras.layers.Conv2D(96, (11,11), activation='relu', input_shape=(224,224,3)),\n",
    "                                  tf.keras.layers.MaxPooling2D(3,3),\n",
    "                                  tf.keras.layers.Conv2D(256, (5,5), activation='relu'),\n",
    "                                  tf.keras.layers.MaxPooling2D(3,3),\n",
    "                                  tf.keras.layers.Conv2D(384, (3,3), activation='relu'),\n",
    "                                  tf.keras.layers.Conv2D(384, (3,3), activation='relu'),\n",
    "                                  tf.keras.layers.Conv2D(256, (3,3), activation='relu'),\n",
    "                                  tf.keras.layers.MaxPooling2D(3,3),\n",
    "                                  tf.keras.layers.Flatten(),\n",
    "                                  tf.keras.layers.Dense(4096, activation='relu'),\n",
    "                                  tf.keras.layers.Dense(4096, activation='relu'),\n",
    "                                  tf.keras.layers.Dense(7, activation='softmax')])\n",
    "model.summary()'''\n",
    "                                  \n",
    "                                  \n",
    "                                  \n",
    "                                  "
   ]
  },
  {
   "cell_type": "code",
   "execution_count": 22,
   "metadata": {},
   "outputs": [
    {
     "data": {
      "text/plain": [
       "\"tf.keras.optimizers.SGD(\\n    learning_rate=0.05, momentum=0.1, nesterov=False, name='SGD', decay=0.1 \\n)\""
      ]
     },
     "execution_count": 22,
     "metadata": {},
     "output_type": "execute_result"
    }
   ],
   "source": [
    "'''tf.keras.optimizers.Adam(\n",
    "    learning_rate=0.05, \n",
    "    name='adam'\n",
    ")'''\n",
    "'''tf.keras.optimizers.SGD(\n",
    "    learning_rate=0.05, momentum=0.1, nesterov=False, name='SGD', decay=0.1 \n",
    ")'''"
   ]
  },
  {
   "cell_type": "code",
   "execution_count": 6,
   "metadata": {},
   "outputs": [],
   "source": [
    "model.compile(loss='categorical_crossentropy', optimizer=tf.keras.optimizers.Adam(), metrics=['acc'])"
   ]
  },
  {
   "cell_type": "code",
   "execution_count": 7,
   "metadata": {},
   "outputs": [
    {
     "name": "stderr",
     "output_type": "stream",
     "text": [
      "d:\\major_project\\env_major_project\\lib\\site-packages\\tensorflow\\python\\keras\\engine\\training.py:1844: UserWarning: `Model.fit_generator` is deprecated and will be removed in a future version. Please use `Model.fit`, which supports generators.\n",
      "  warnings.warn('`Model.fit_generator` is deprecated and '\n"
     ]
    },
    {
     "name": "stdout",
     "output_type": "stream",
     "text": [
      "Epoch 1/30\n",
      "18/18 [==============================] - 15s 827ms/step - loss: 1.6515 - acc: 0.3201 - val_loss: 1.3530 - val_acc: 0.4490\n",
      "Epoch 2/30\n",
      "18/18 [==============================] - 14s 802ms/step - loss: 1.3241 - acc: 0.4824 - val_loss: 1.2078 - val_acc: 0.5204\n",
      "Epoch 3/30\n",
      "18/18 [==============================] - 14s 789ms/step - loss: 1.1908 - acc: 0.5131 - val_loss: 1.0555 - val_acc: 0.6276\n",
      "Epoch 4/30\n",
      "18/18 [==============================] - 14s 786ms/step - loss: 1.0294 - acc: 0.6210 - val_loss: 1.0290 - val_acc: 0.6224\n",
      "Epoch 5/30\n",
      "18/18 [==============================] - 14s 782ms/step - loss: 0.9270 - acc: 0.6416 - val_loss: 0.9892 - val_acc: 0.5969\n",
      "Epoch 6/30\n",
      "18/18 [==============================] - 14s 789ms/step - loss: 0.7634 - acc: 0.6960 - val_loss: 1.0900 - val_acc: 0.5765\n",
      "Epoch 7/30\n",
      "18/18 [==============================] - 15s 852ms/step - loss: 0.7983 - acc: 0.7488 - val_loss: 1.0500 - val_acc: 0.5612\n",
      "Epoch 8/30\n",
      "18/18 [==============================] - 16s 901ms/step - loss: 0.6422 - acc: 0.7935 - val_loss: 1.1102 - val_acc: 0.6276\n",
      "Epoch 9/30\n",
      "18/18 [==============================] - 14s 804ms/step - loss: 0.5193 - acc: 0.8282 - val_loss: 1.0109 - val_acc: 0.5918\n",
      "Epoch 10/30\n",
      "18/18 [==============================] - 14s 786ms/step - loss: 0.4297 - acc: 0.8463 - val_loss: 1.0164 - val_acc: 0.6837\n",
      "Epoch 11/30\n",
      "18/18 [==============================] - 14s 778ms/step - loss: 0.2959 - acc: 0.8959 - val_loss: 1.2757 - val_acc: 0.6531\n",
      "Epoch 12/30\n",
      "18/18 [==============================] - 14s 776ms/step - loss: 0.3259 - acc: 0.8915 - val_loss: 1.1859 - val_acc: 0.6888\n",
      "Epoch 13/30\n",
      "18/18 [==============================] - 14s 775ms/step - loss: 0.1299 - acc: 0.9697 - val_loss: 1.1242 - val_acc: 0.7347\n",
      "Epoch 14/30\n",
      "18/18 [==============================] - 14s 776ms/step - loss: 0.1312 - acc: 0.9663 - val_loss: 1.4927 - val_acc: 0.6786\n",
      "Epoch 15/30\n",
      "18/18 [==============================] - 14s 784ms/step - loss: 0.1434 - acc: 0.9554 - val_loss: 1.1009 - val_acc: 0.6990\n",
      "Epoch 16/30\n",
      "18/18 [==============================] - 14s 778ms/step - loss: 0.0705 - acc: 0.9941 - val_loss: 1.4578 - val_acc: 0.6939\n",
      "Epoch 17/30\n",
      "18/18 [==============================] - 14s 781ms/step - loss: 0.0403 - acc: 0.9906 - val_loss: 1.8008 - val_acc: 0.6582\n",
      "Epoch 18/30\n",
      "18/18 [==============================] - 14s 782ms/step - loss: 0.0129 - acc: 0.9966 - val_loss: 1.5793 - val_acc: 0.7143\n",
      "Epoch 19/30\n",
      "18/18 [==============================] - 14s 779ms/step - loss: 0.0626 - acc: 0.9786 - val_loss: 1.4857 - val_acc: 0.6531\n",
      "Epoch 20/30\n",
      "18/18 [==============================] - 14s 788ms/step - loss: 0.1333 - acc: 0.9563 - val_loss: 1.5362 - val_acc: 0.6684\n",
      "Epoch 21/30\n",
      "18/18 [==============================] - 14s 782ms/step - loss: 0.0733 - acc: 0.9789 - val_loss: 1.6740 - val_acc: 0.6327\n",
      "Epoch 22/30\n",
      "18/18 [==============================] - 14s 781ms/step - loss: 0.0435 - acc: 0.9911 - val_loss: 1.6333 - val_acc: 0.6327\n",
      "Epoch 23/30\n",
      "18/18 [==============================] - 14s 784ms/step - loss: 0.0677 - acc: 0.9838 - val_loss: 1.8382 - val_acc: 0.6684\n",
      "Epoch 24/30\n",
      "18/18 [==============================] - 14s 782ms/step - loss: 0.0095 - acc: 0.9979 - val_loss: 1.8106 - val_acc: 0.6837\n",
      "Epoch 25/30\n",
      "18/18 [==============================] - 14s 783ms/step - loss: 0.0014 - acc: 1.0000 - val_loss: 1.8368 - val_acc: 0.6735\n",
      "Epoch 26/30\n",
      "18/18 [==============================] - 14s 781ms/step - loss: 6.5178e-04 - acc: 1.0000 - val_loss: 1.8677 - val_acc: 0.6837\n",
      "Epoch 27/30\n",
      "18/18 [==============================] - 14s 780ms/step - loss: 4.3789e-04 - acc: 1.0000 - val_loss: 1.9717 - val_acc: 0.6990\n",
      "Epoch 28/30\n",
      "18/18 [==============================] - 14s 781ms/step - loss: 2.7909e-04 - acc: 1.0000 - val_loss: 2.0129 - val_acc: 0.6939\n",
      "Epoch 29/30\n",
      "18/18 [==============================] - 14s 780ms/step - loss: 2.8703e-04 - acc: 1.0000 - val_loss: 2.0691 - val_acc: 0.6837\n",
      "Epoch 30/30\n",
      "18/18 [==============================] - 14s 774ms/step - loss: 1.9708e-04 - acc: 1.0000 - val_loss: 2.1241 - val_acc: 0.6888\n"
     ]
    }
   ],
   "source": [
    "history1 = model.fit_generator(train_generator, epochs=30, validation_data=test_generator)"
   ]
  },
  {
   "cell_type": "code",
   "execution_count": null,
   "metadata": {},
   "outputs": [],
   "source": []
  },
  {
   "cell_type": "code",
   "execution_count": null,
   "metadata": {},
   "outputs": [],
   "source": []
  }
 ],
 "metadata": {
  "kernelspec": {
   "display_name": "Python 3",
   "language": "python",
   "name": "python3"
  },
  "language_info": {
   "codemirror_mode": {
    "name": "ipython",
    "version": 3
   },
   "file_extension": ".py",
   "mimetype": "text/x-python",
   "name": "python",
   "nbconvert_exporter": "python",
   "pygments_lexer": "ipython3",
   "version": "3.8.5"
  }
 },
 "nbformat": 4,
 "nbformat_minor": 4
}
